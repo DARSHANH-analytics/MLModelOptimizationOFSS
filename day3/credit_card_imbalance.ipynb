{
 "cells": [
  {
   "cell_type": "code",
   "execution_count": 1,
   "metadata": {},
   "outputs": [],
   "source": [
    "import pandas as pd\n",
    "df = pd.read_csv('https://query.data.world/s/7af5b2edd2xhj3i5cehwtoy742adto')"
   ]
  },
  {
   "cell_type": "code",
   "execution_count": 2,
   "metadata": {},
   "outputs": [
    {
     "data": {
      "text/plain": [
       "(284807, 32)"
      ]
     },
     "execution_count": 2,
     "metadata": {},
     "output_type": "execute_result"
    }
   ],
   "source": [
    "df.shape"
   ]
  },
  {
   "cell_type": "code",
   "execution_count": 4,
   "metadata": {},
   "outputs": [
    {
     "data": {
      "text/plain": [
       "0    284315\n",
       "1       492\n",
       "Name: Class, dtype: int64"
      ]
     },
     "execution_count": 4,
     "metadata": {},
     "output_type": "execute_result"
    }
   ],
   "source": [
    "df.Class.value_counts()"
   ]
  },
  {
   "cell_type": "code",
   "execution_count": 5,
   "metadata": {},
   "outputs": [
    {
     "data": {
      "text/plain": [
       "0    99.827251\n",
       "1     0.172749\n",
       "Name: Class, dtype: float64"
      ]
     },
     "execution_count": 5,
     "metadata": {},
     "output_type": "execute_result"
    }
   ],
   "source": [
    "df.Class.value_counts(normalize=True)*100"
   ]
  },
  {
   "cell_type": "code",
   "execution_count": 3,
   "metadata": {},
   "outputs": [
    {
     "name": "stdout",
     "output_type": "stream",
     "text": [
      "<class 'pandas.core.frame.DataFrame'>\n",
      "RangeIndex: 284807 entries, 0 to 284806\n",
      "Data columns (total 32 columns):\n",
      " #   Column      Non-Null Count   Dtype  \n",
      "---  ------      --------------   -----  \n",
      " 0   Unnamed: 0  284807 non-null  int64  \n",
      " 1   Time        284807 non-null  float64\n",
      " 2   V1          284807 non-null  float64\n",
      " 3   V2          284807 non-null  float64\n",
      " 4   V3          284807 non-null  float64\n",
      " 5   V4          284807 non-null  float64\n",
      " 6   V5          284807 non-null  float64\n",
      " 7   V6          284807 non-null  float64\n",
      " 8   V7          284807 non-null  float64\n",
      " 9   V8          284807 non-null  float64\n",
      " 10  V9          284807 non-null  float64\n",
      " 11  V10         284807 non-null  float64\n",
      " 12  V11         284807 non-null  float64\n",
      " 13  V12         284807 non-null  float64\n",
      " 14  V13         284807 non-null  float64\n",
      " 15  V14         284807 non-null  float64\n",
      " 16  V15         284807 non-null  float64\n",
      " 17  V16         284807 non-null  float64\n",
      " 18  V17         284807 non-null  float64\n",
      " 19  V18         284807 non-null  float64\n",
      " 20  V19         284807 non-null  float64\n",
      " 21  V20         284807 non-null  float64\n",
      " 22  V21         284807 non-null  float64\n",
      " 23  V22         284807 non-null  float64\n",
      " 24  V23         284807 non-null  float64\n",
      " 25  V24         284807 non-null  float64\n",
      " 26  V25         284807 non-null  float64\n",
      " 27  V26         284807 non-null  float64\n",
      " 28  V27         284807 non-null  float64\n",
      " 29  V28         284807 non-null  float64\n",
      " 30  Amount      284807 non-null  float64\n",
      " 31  Class       284807 non-null  int64  \n",
      "dtypes: float64(30), int64(2)\n",
      "memory usage: 69.5 MB\n"
     ]
    }
   ],
   "source": [
    "df.info()"
   ]
  }
 ],
 "metadata": {
  "kernelspec": {
   "display_name": "Python 3",
   "language": "python",
   "name": "python3"
  },
  "language_info": {
   "codemirror_mode": {
    "name": "ipython",
    "version": 3
   },
   "file_extension": ".py",
   "mimetype": "text/x-python",
   "name": "python",
   "nbconvert_exporter": "python",
   "pygments_lexer": "ipython3",
   "version": "3.11.1"
  },
  "orig_nbformat": 4,
  "vscode": {
   "interpreter": {
    "hash": "b5366fdf1b75ea46866cbb0dbf20c9c00a492271cd056179d726b8c91a378c13"
   }
  }
 },
 "nbformat": 4,
 "nbformat_minor": 2
}
